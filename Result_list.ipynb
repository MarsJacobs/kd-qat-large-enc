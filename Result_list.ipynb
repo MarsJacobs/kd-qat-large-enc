{
 "cells": [
  {
   "cell_type": "markdown",
   "id": "1236c376",
   "metadata": {},
   "source": [
    "## A6000-2"
   ]
  },
  {
   "cell_type": "code",
   "execution_count": 21,
   "id": "0a482c6f",
   "metadata": {},
   "outputs": [
    {
     "ename": "FileNotFoundError",
     "evalue": "[Errno 2] No such file or directory: 'output/BERT_large/cola/exploration/1SB_large_M_O_1/best_info.txt'",
     "output_type": "error",
     "traceback": [
      "\u001b[0;31m---------------------------------------------------------------------------\u001b[0m",
      "\u001b[0;31mFileNotFoundError\u001b[0m                         Traceback (most recent call last)",
      "Input \u001b[0;32mIn [21]\u001b[0m, in \u001b[0;36m<cell line: 14>\u001b[0;34m()\u001b[0m\n\u001b[1;32m     16\u001b[0m folder_name \u001b[38;5;241m=\u001b[39m \u001b[38;5;124mf\u001b[39m\u001b[38;5;124m\"\u001b[39m\u001b[38;5;124m1SB_\u001b[39m\u001b[38;5;132;01m{\u001b[39;00msize\u001b[38;5;132;01m}\u001b[39;00m\u001b[38;5;124m_M_O_\u001b[39m\u001b[38;5;132;01m{\u001b[39;00mseed\u001b[38;5;132;01m}\u001b[39;00m\u001b[38;5;124m\"\u001b[39m\n\u001b[1;32m     17\u001b[0m temp_dir \u001b[38;5;241m=\u001b[39m os\u001b[38;5;241m.\u001b[39mpath\u001b[38;5;241m.\u001b[39mjoin(output_dir, folder_name, \u001b[38;5;124m\"\u001b[39m\u001b[38;5;124mbest_info.txt\u001b[39m\u001b[38;5;124m\"\u001b[39m)\n\u001b[0;32m---> 19\u001b[0m f \u001b[38;5;241m=\u001b[39m \u001b[38;5;28;43mopen\u001b[39;49m\u001b[43m(\u001b[49m\u001b[43mtemp_dir\u001b[49m\u001b[43m,\u001b[49m\u001b[43m \u001b[49m\u001b[38;5;124;43m'\u001b[39;49m\u001b[38;5;124;43mr\u001b[39;49m\u001b[38;5;124;43m'\u001b[39;49m\u001b[43m)\u001b[49m\n\u001b[1;32m     20\u001b[0m \u001b[38;5;28mprint\u001b[39m(f\u001b[38;5;241m.\u001b[39mreadline())\n",
      "\u001b[0;31mFileNotFoundError\u001b[0m: [Errno 2] No such file or directory: 'output/BERT_large/cola/exploration/1SB_large_M_O_1/best_info.txt'"
     ]
    }
   ],
   "source": [
    "import os\n",
    "task = \"cola\"\n",
    "\n",
    "bert = \"BERT_large\"\n",
    "size = \"large\"\n",
    "\n",
    "if size == \"base\":\n",
    "    output_dir = os.path.join(\"output\", task, \"exploration\")\n",
    "else:\n",
    "    output_dir = os.path.join(\"output\", bert, task, \"exploration\")\n",
    "    \n",
    "seed_list = [1,2,3,4,5,6,7,8,9,10]\n",
    "\n",
    "for seed in seed_list:\n",
    "\n",
    "    folder_name = f\"1SB_{size}_M_O_{seed}\"\n",
    "    temp_dir = os.path.join(output_dir, folder_name, \"best_info.txt\")\n",
    "\n",
    "    f = open(temp_dir, 'r')\n",
    "    print(f.readline())"
   ]
  },
  {
   "cell_type": "code",
   "execution_count": 27,
   "id": "22354238",
   "metadata": {
    "scrolled": true
   },
   "outputs": [
    {
     "name": "stdout",
     "output_type": "stream",
     "text": [
      "85.58823529411765\n",
      "85.33263305322129\n",
      "86.16504854368931\n",
      "85.87909301651695\n"
     ]
    },
    {
     "ename": "FileNotFoundError",
     "evalue": "[Errno 2] No such file or directory: 'output/BERT_Tiny_6l/mrpc/exploration/1SB_tiny-6l_S_O_5/best_info.txt'",
     "output_type": "error",
     "traceback": [
      "\u001b[0;31m---------------------------------------------------------------------------\u001b[0m",
      "\u001b[0;31mFileNotFoundError\u001b[0m                         Traceback (most recent call last)",
      "Input \u001b[0;32mIn [27]\u001b[0m, in \u001b[0;36m<cell line: 10>\u001b[0;34m()\u001b[0m\n\u001b[1;32m     12\u001b[0m folder_name \u001b[38;5;241m=\u001b[39m \u001b[38;5;124mf\u001b[39m\u001b[38;5;124m\"\u001b[39m\u001b[38;5;124m1SB_\u001b[39m\u001b[38;5;132;01m{\u001b[39;00msize\u001b[38;5;132;01m}\u001b[39;00m\u001b[38;5;124m_S_O_\u001b[39m\u001b[38;5;132;01m{\u001b[39;00mseed\u001b[38;5;132;01m}\u001b[39;00m\u001b[38;5;124m\"\u001b[39m\n\u001b[1;32m     13\u001b[0m temp_dir \u001b[38;5;241m=\u001b[39m os\u001b[38;5;241m.\u001b[39mpath\u001b[38;5;241m.\u001b[39mjoin(output_dir, folder_name, \u001b[38;5;124m\"\u001b[39m\u001b[38;5;124mbest_info.txt\u001b[39m\u001b[38;5;124m\"\u001b[39m)\n\u001b[0;32m---> 15\u001b[0m f \u001b[38;5;241m=\u001b[39m \u001b[38;5;28;43mopen\u001b[39;49m\u001b[43m(\u001b[49m\u001b[43mtemp_dir\u001b[49m\u001b[43m,\u001b[49m\u001b[43m \u001b[49m\u001b[38;5;124;43m'\u001b[39;49m\u001b[38;5;124;43mr\u001b[39;49m\u001b[38;5;124;43m'\u001b[39;49m\u001b[43m)\u001b[49m\n\u001b[1;32m     16\u001b[0m \u001b[38;5;28mprint\u001b[39m(f\u001b[38;5;241m.\u001b[39mreadline())\n",
      "\u001b[0;31mFileNotFoundError\u001b[0m: [Errno 2] No such file or directory: 'output/BERT_Tiny_6l/mrpc/exploration/1SB_tiny-6l_S_O_5/best_info.txt'"
     ]
    }
   ],
   "source": [
    "import os\n",
    "task = \"mrpc\"\n",
    "bert = \"BERT_Tiny_6l\"\n",
    "size=\"tiny-6l\"\n",
    "\n",
    "output_dir = os.path.join(\"output\", bert, task, \"exploration\")\n",
    "\n",
    "seed_list = [1,2,3,4,5,6,7,8,9,10]\n",
    "\n",
    "for seed in seed_list:\n",
    "\n",
    "    folder_name = f\"1SB_{size}_S_O_{seed}\"\n",
    "    temp_dir = os.path.join(output_dir, folder_name, \"best_info.txt\")\n",
    "\n",
    "    f = open(temp_dir, 'r')\n",
    "    print(f.readline())"
   ]
  },
  {
   "cell_type": "code",
   "execution_count": null,
   "id": "aedf5ed4",
   "metadata": {},
   "outputs": [],
   "source": []
  }
 ],
 "metadata": {
  "kernelspec": {
   "display_name": "Python 3 (ipykernel)",
   "language": "python",
   "name": "python3"
  },
  "language_info": {
   "codemirror_mode": {
    "name": "ipython",
    "version": 3
   },
   "file_extension": ".py",
   "mimetype": "text/x-python",
   "name": "python",
   "nbconvert_exporter": "python",
   "pygments_lexer": "ipython3",
   "version": "3.10.4"
  }
 },
 "nbformat": 4,
 "nbformat_minor": 5
}
