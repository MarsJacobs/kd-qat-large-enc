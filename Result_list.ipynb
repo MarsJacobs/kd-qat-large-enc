{
 "cells": [
  {
   "cell_type": "markdown",
   "id": "1236c376",
   "metadata": {},
   "source": [
    "## A6000-2"
   ]
  },
  {
   "cell_type": "code",
   "execution_count": 76,
   "id": "0a482c6f",
   "metadata": {},
   "outputs": [
    {
     "name": "stdout",
     "output_type": "stream",
     "text": [
      "88.12742021815667\n",
      "87.91947971963504\n",
      "87.75102762489297\n",
      "87.7086902976341\n",
      "87.93623205581156\n",
      "87.97195890659657\n",
      "88.03415931252223\n",
      "87.8025415000458\n",
      "87.7292538629775\n",
      "87.96907114385158\n"
     ]
    }
   ],
   "source": [
    "import os\n",
    "task = \"sts-b\"\n",
    "\n",
    "bert = \"BERT_large\"\n",
    "size = \"base\"\n",
    "\n",
    "if size == \"base\":\n",
    "    output_dir = os.path.join(\"output\", task, \"exploration\")\n",
    "else:\n",
    "    output_dir = os.path.join(\"output\", bert, task, \"exploration\")\n",
    "    \n",
    "seed_list = [1,2,3,4,5,6,7,8,9,10]\n",
    "\n",
    "for seed in seed_list:\n",
    "\n",
    "    folder_name = f\"step_2_{size}_M_O_{seed}\"\n",
    "    temp_dir = os.path.join(output_dir, folder_name, \"best_info.txt\")\n",
    "\n",
    "    f = open(temp_dir, 'r')\n",
    "    print(f.readline())"
   ]
  },
  {
   "cell_type": "code",
   "execution_count": 75,
   "id": "22354238",
   "metadata": {},
   "outputs": [
    {
     "name": "stdout",
     "output_type": "stream",
     "text": [
      "83.96329026280753\n",
      "83.92900332641176\n",
      "84.15932455402677\n",
      "83.79121191313537\n",
      "84.27503818893524\n",
      "83.60776041467012\n",
      "84.5161903384279\n",
      "84.1290174446009\n",
      "83.95802705630943\n",
      "84.19809807418737\n"
     ]
    }
   ],
   "source": [
    "import os\n",
    "task = \"sts-b\"\n",
    "bert = \"BERT_Tiny_6l\"\n",
    "size=\"tiny-6l\"\n",
    "\n",
    "output_dir = os.path.join(\"output\", bert, task, \"exploration\")\n",
    "\n",
    "seed_list = [1,2,3,4,5,6,7,8,9,10]\n",
    "\n",
    "for seed in seed_list:\n",
    "\n",
    "    folder_name = f\"step_2_{size}_M_O_{seed}\"\n",
    "    temp_dir = os.path.join(output_dir, folder_name, \"best_info.txt\")\n",
    "\n",
    "    f = open(temp_dir, 'r')\n",
    "    print(f.readline())"
   ]
  },
  {
   "cell_type": "code",
   "execution_count": null,
   "id": "aedf5ed4",
   "metadata": {},
   "outputs": [],
   "source": []
  }
 ],
 "metadata": {
  "kernelspec": {
   "display_name": "Python 3 (ipykernel)",
   "language": "python",
   "name": "python3"
  },
  "language_info": {
   "codemirror_mode": {
    "name": "ipython",
    "version": 3
   },
   "file_extension": ".py",
   "mimetype": "text/x-python",
   "name": "python",
   "nbconvert_exporter": "python",
   "pygments_lexer": "ipython3",
   "version": "3.10.4"
  }
 },
 "nbformat": 4,
 "nbformat_minor": 5
}
