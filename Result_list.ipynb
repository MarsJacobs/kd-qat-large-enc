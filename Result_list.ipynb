{
 "cells": [
  {
   "cell_type": "code",
   "execution_count": 18,
   "id": "0a482c6f",
   "metadata": {},
   "outputs": [
    {
     "name": "stdout",
     "output_type": "stream",
     "text": [
      "87.22791718413397\n",
      "86.85928728864094\n",
      "87.09586951236304\n",
      "87.00577825000262\n",
      "87.01450565972276\n",
      "86.92693451063262\n",
      "86.88738327045955\n",
      "87.27304859585348\n",
      "87.26605127381013\n",
      "87.07163428677399\n"
     ]
    }
   ],
   "source": [
    "import os\n",
    "task = \"sts-b\"\n",
    "bert = \"BERT_Tiny_6l\"\n",
    "size=\"tiny-6l\"\n",
    "# bert = \"BERT_large\"\n",
    "# size = \"large\"\n",
    "# output_dir = os.path.join(\"output\", task, \"1SB\")\n",
    "output_dir = os.path.join(\"output\", bert, task, \"1SB\")\n",
    "\n",
    "seed_list = [1,2,3,4,5,6,7,8,9,10]\n",
    "\n",
    "for seed in seed_list:\n",
    "\n",
    "    folder_name = f\"1SB_{size}_O_{seed}\"\n",
    "    temp_dir = os.path.join(output_dir, folder_name, \"best_info.txt\")\n",
    "\n",
    "    f = open(temp_dir, 'r')\n",
    "    print(f.readline())"
   ]
  }
 ],
 "metadata": {
  "kernelspec": {
   "display_name": "Python 3 (ipykernel)",
   "language": "python",
   "name": "python3"
  },
  "language_info": {
   "codemirror_mode": {
    "name": "ipython",
    "version": 3
   },
   "file_extension": ".py",
   "mimetype": "text/x-python",
   "name": "python",
   "nbconvert_exporter": "python",
   "pygments_lexer": "ipython3",
   "version": "3.9.7"
  }
 },
 "nbformat": 4,
 "nbformat_minor": 5
}
